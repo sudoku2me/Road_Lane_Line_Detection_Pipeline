{
 "cells": [
  {
   "cell_type": "code",
   "execution_count": 8,
   "id": "bdd69b00",
   "metadata": {},
   "outputs": [
    {
     "data": {
      "image/png": "[encoded data removed]",
      "text/plain": [
       "<Figure size 640x480 with 1 Axes>"
      ]
     },
     "metadata": {},
     "output_type": "display_data"
    }
   ],
   "source": [
    "import matplotlib.pyplot as plt\n",
    "import matplotlib.image as mpimg\n",
    "import numpy as np\n",
    "import cv2\n",
    "%matplotlib inline\n",
    "\n",
    "def region_of_interest(img, vertices):\n",
    "    \"\"\"\n",
    "    Applies an image mask.\n",
    "    \n",
    "    Only keeps the region of the image defined by the polygon\n",
    "    formed from `vertices`. The rest of the image is set to black.\n",
    "    \"\"\"\n",
    "    #defining a blank mask to start with\n",
    "    mask = np.zeros_like(img)   \n",
    "    \n",
    "    #defining a 3 channel or 1 channel color to fill the mask with depending on the input image\n",
    "    if len(img.shape) > 2:\n",
    "        channel_count = img.shape[2]  # i.e. 3 or 4 depending on your image\n",
    "        ignore_mask_color = (255,) * channel_count\n",
    "    else:\n",
    "        ignore_mask_color = 255\n",
    "        \n",
    "    #filling pixels inside the polygon defined by \"vertices\" with the fill color    \n",
    "    cv2.fillPoly(mask, vertices, ignore_mask_color)\n",
    "    \n",
    "    #returning the image only where mask pixels are nonzero\n",
    "    masked_image = cv2.bitwise_and(img, mask)\n",
    "    return masked_image\n",
    "\n",
    "# Region-of-interest vertices\n",
    "# We want a trapezoid shape, with bottom edge at the bottom of the image\n",
    "trap_bottom_width = 0.85  # width of bottom edge of trapezoid, expressed as percentage of image width\n",
    "trap_top_width = 0.07  # ditto for top edge of trapezoid\n",
    "trap_height = 0.4  # height of the trapezoid expressed as percentage of image height\n",
    "image_in = mpimg.imread('Transformation4.jpg')\n",
    "image = mpimg.imread('Transformation1.jpg')\n",
    "imshape = image.shape\n",
    "vertices = np.array([[\\\n",
    "    ((imshape[1] * (1 - trap_bottom_width)) // 2, imshape[0]),\\\n",
    "    ((imshape[1] * (1 - trap_top_width)) // 2, imshape[0] - imshape[0] * trap_height),\\\n",
    "    (imshape[1] - (imshape[1] * (1 - trap_top_width)) // 2, imshape[0] - imshape[0] * trap_height),\\\n",
    "    (imshape[1] - (imshape[1] * (1 - trap_bottom_width)) // 2, imshape[0])]]\\\n",
    "    , dtype=np.int32)\n",
    "masked_edges = region_of_interest(image_in, vertices)\n",
    "plt.imshow(masked_edges, cmap='gray')\n",
    "plt.axis('off')\n",
    "transformation = plt.imshow\n",
    "plt.savefig('Transformation5.jpg',bbox_inches='tight',transparent=True, pad_inches=0)"
   ]
  },
  {
   "cell_type": "code",
   "execution_count": null,
   "id": "86127dff",
   "metadata": {},
   "outputs": [],
   "source": []
  }
 ],
 "metadata": {
  "kernelspec": {
   "display_name": "Python 3 (ipykernel)",
   "language": "python",
   "name": "python3"
  },
  "language_info": {
   "codemirror_mode": {
    "name": "ipython",
    "version": 3
   },
   "file_extension": ".py",
   "mimetype": "text/x-python",
   "name": "python",
   "nbconvert_exporter": "python",
   "pygments_lexer": "ipython3",
   "version": "3.8.16"
  }
 },
 "nbformat": 4,
 "nbformat_minor": 5
}
