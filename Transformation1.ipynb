{
 "cells": [
  {
   "cell_type": "code",
   "execution_count": 19,
   "id": "5bb45f46",
   "metadata": {
    "scrolled": true
   },
   "outputs": [
    {
     "data": {
      "image/png": "[encoded data removed]",
      "text/plain": [
       "<Figure size 640x480 with 1 Axes>"
      ]
     },
     "metadata": {},
     "output_type": "display_data"
    }
   ],
   "source": [
    "import matplotlib.pyplot as plt\n",
    "import matplotlib.image as mpimg\n",
    "import numpy as np\n",
    "import cv2\n",
    "%matplotlib inline\n",
    "\n",
    "def filter_colors(image):\n",
    "    \"\"\"\n",
    "    Filter the image to include only yellow and white pixels\n",
    "    \"\"\"\n",
    "    # Filter white pixels\n",
    "    white_threshold = 180\n",
    "    lower_white = np.array([white_threshold, white_threshold, white_threshold])\n",
    "    upper_white = np.array([255, 255, 255])\n",
    "    white_mask = cv2.inRange(image, lower_white, upper_white)\n",
    "    white_image = cv2.bitwise_and(image, image, mask=white_mask)\n",
    "\n",
    "    # Filter yellow pixels\n",
    "    hsv = cv2.cvtColor(image, cv2.COLOR_BGR2HSV)\n",
    "    lower_yellow = np.array([90,100,100])\n",
    "    upper_yellow = np.array([110,255,255])\n",
    "    yellow_mask = cv2.inRange(hsv, lower_yellow, upper_yellow)\n",
    "    yellow_image = cv2.bitwise_and(image, image, mask=yellow_mask)\n",
    "\n",
    "    # Combine the two above images\n",
    "    image2 = cv2.addWeighted(white_image, 1., yellow_image, 1., 0.) \n",
    "    return image2\n",
    "\n",
    "image_in = mpimg.imread('solidYellowCurve.jpg')\n",
    "# Only keep white and yellow pixels in the image, all other pixels become black\n",
    "image = filter_colors(image_in) \n",
    "plt.imshow(image)\n",
    "plt.axis('off')\n",
    "transformation = plt.imshow\n",
    "plt.savefig('Transformation1.jpg',bbox_inches='tight',transparent=True, pad_inches=0)"
   ]
  },
  {
   "cell_type": "code",
   "execution_count": null,
   "id": "26498882",
   "metadata": {},
   "outputs": [],
   "source": []
  }
 ],
 "metadata": {
  "kernelspec": {
   "display_name": "Python 3 (ipykernel)",
   "language": "python",
   "name": "python3"
  },
  "language_info": {
   "codemirror_mode": {
    "name": "ipython",
    "version": 3
   },
   "file_extension": ".py",
   "mimetype": "text/x-python",
   "name": "python",
   "nbconvert_exporter": "python",
   "pygments_lexer": "ipython3",
   "version": "3.8.16"
  }
 },
 "nbformat": 4,
 "nbformat_minor": 5
}
